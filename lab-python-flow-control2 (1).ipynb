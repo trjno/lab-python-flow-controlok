{
 "cells": [
  {
   "cell_type": "markdown",
   "id": "902c4fdc-057d-465e-be93-a11530c244a2",
   "metadata": {
    "tags": []
   },
   "source": [
    "# Lab | Flow Control"
   ]
  },
  {
   "cell_type": "code",
   "execution_count": null,
   "id": "84f45e89-b79d-4955-9b14-7da5d3f25171",
   "metadata": {},
   "outputs": [],
   "source": []
  },
  {
   "cell_type": "markdown",
   "id": "3851fcd1-cf98-4653-9c89-e003b7ec9400",
   "metadata": {},
   "source": [
    "## Exercise: Managing Customer Orders Optimized\n",
    "\n",
    "In the last lab, you were starting an online store that sells various products. To ensure smooth operations, you developed a program that manages customer orders and inventory.\n",
    "\n",
    "You did so without using flow control. Let's go a step further and improve this code.\n",
    "\n",
    "Follow the steps below to complete the exercise:\n",
    "\n",
    "1. Look at your code from the lab data structures, and improve repeated code with loops.\n",
    "\n",
    "2. Instead of asking the user to input the name of three products that a customer wants to order, do the following:\n",
    "    \n",
    "    a. Prompt the user to enter the name of a product that a customer wants to order.\n",
    "    \n",
    "    b. Add the product name to the \"customer_orders\" set.\n",
    "    \n",
    "    c. Ask the user if they want to add another product (yes/no).\n",
    "    \n",
    "    d. Continue the loop until the user does not want to add another product.\n",
    "\n",
    "3. Instead of updating the inventory by subtracting 1 from the quantity of each product, only do it for  the products that were ordered (those in \"customer_orders\")."
   ]
  },
  {
   "cell_type": "code",
   "execution_count": null,
   "id": "97728417-0a82-4878-adff-be9d23f82bd3",
   "metadata": {},
   "outputs": [],
   "source": []
  },
  {
   "cell_type": "code",
   "execution_count": 98,
   "id": "1497759f-231a-4889-b735-69f3797f8360",
   "metadata": {},
   "outputs": [
    {
     "name": "stdout",
     "output_type": "stream",
     "text": [
      "pen\n",
      "hey\n",
      "pencils\n",
      "hey\n",
      "erasers\n",
      "hey\n",
      "paper\n",
      "hey\n",
      "notebook\n",
      "hey\n",
      "backpack\n",
      "hey\n",
      "To markers lovers, we are sorry.  We have none at this time!\n"
     ]
    }
   ],
   "source": [
    "items = [\"pen\", \"pencils\", \"erasers\", \"paper\", \"notebook\", \"backpack\"]\n",
    "\n",
    "for item in items:\n",
    "    print(item)\n",
    "    print(\"hey\")\n",
    "\n",
    "print (\"To markers lovers, we are sorry.  We have none at this time!\")"
   ]
  },
  {
   "cell_type": "code",
   "execution_count": 57,
   "id": "526ba904-7f28-44b5-bb5a-b11cb82ac5bc",
   "metadata": {},
   "outputs": [
    {
     "name": "stdin",
     "output_type": "stream",
     "text": [
      "Please let me know what item you would care for today: The usual\n"
     ]
    },
    {
     "data": {
      "text/plain": [
       "'The usual'"
      ]
     },
     "execution_count": 57,
     "metadata": {},
     "output_type": "execute_result"
    }
   ],
   "source": [
    "input (\"Please let me know what item you would care for today:\")"
   ]
  },
  {
   "cell_type": "code",
   "execution_count": 61,
   "id": "22f9f78f-866a-4670-ae85-5747c714bfaa",
   "metadata": {},
   "outputs": [
    {
     "name": "stdin",
     "output_type": "stream",
     "text": [
      "The order for Customer Smith: Validated\n"
     ]
    },
    {
     "name": "stdout",
     "output_type": "stream",
     "text": [
      "pen\n",
      "backpack\n"
     ]
    }
   ],
   "source": [
    "# Customer_order\n",
    "Customer_Order = {\"pen\",30, \"backpack\",50}\n",
    "input (\"The order for Customer Smith:\")\n",
    "for item in Customer_order:\n",
    "    print (item)"
   ]
  },
  {
   "cell_type": "code",
   "execution_count": 74,
   "id": "7d23db6f-9bd7-48a6-a680-34779df84c59",
   "metadata": {},
   "outputs": [
    {
     "name": "stdin",
     "output_type": "stream",
     "text": [
      "Would you want anything else? yes\n"
     ]
    },
    {
     "name": "stdout",
     "output_type": "stream",
     "text": [
      "{'Erasers-30'}\n"
     ]
    }
   ],
   "source": [
    "# update the Customer_order\n",
    "input (\"Would you want anything else?\")\n",
    "New_order = {\"Erasers-30\"}\n",
    "print(New_order)"
   ]
  },
  {
   "cell_type": "code",
   "execution_count": 73,
   "id": "8a2cbc4f-44d3-415e-b426-d7e89efbe14f",
   "metadata": {},
   "outputs": [
    {
     "name": "stdout",
     "output_type": "stream",
     "text": [
      "{'pen': 30, 'backpack': 50}\n"
     ]
    }
   ],
   "source": [
    "# Updated Order\n",
    "print(Customer_order) and (New_order)"
   ]
  },
  {
   "cell_type": "code",
   "execution_count": 79,
   "id": "01c0277e-4f2d-4456-a117-be7e054c61f7",
   "metadata": {},
   "outputs": [
    {
     "name": "stdout",
     "output_type": "stream",
     "text": [
      "Y\n"
     ]
    }
   ],
   "source": [
    "# Would you care for something else?\n",
    "Yes = 1\n",
    "No = 2\n",
    "\n",
    "if(num:=1): \n",
    "    print (\"Y\")\n",
    "else: \n",
    "    print (\"N\")"
   ]
  },
  {
   "cell_type": "code",
   "execution_count": null,
   "id": "ad51cba0-40a7-44c1-a9b3-6f5429661d95",
   "metadata": {},
   "outputs": [],
   "source": [
    "#inventory (<\n"
   ]
  },
  {
   "cell_type": "code",
   "execution_count": null,
   "id": "2e54acaf-22ff-44c2-b567-62aa9020e0ec",
   "metadata": {},
   "outputs": [],
   "source": []
  },
  {
   "cell_type": "code",
   "execution_count": null,
   "id": "0ae3a12c-6a6d-400e-9cf5-424483c71222",
   "metadata": {},
   "outputs": [],
   "source": []
  }
 ],
 "metadata": {
  "kernelspec": {
   "display_name": "Python 3 (ipykernel)",
   "language": "python",
   "name": "python3"
  },
  "language_info": {
   "codemirror_mode": {
    "name": "ipython",
    "version": 3
   },
   "file_extension": ".py",
   "mimetype": "text/x-python",
   "name": "python",
   "nbconvert_exporter": "python",
   "pygments_lexer": "ipython3",
   "version": "3.11.7"
  }
 },
 "nbformat": 4,
 "nbformat_minor": 5
}
